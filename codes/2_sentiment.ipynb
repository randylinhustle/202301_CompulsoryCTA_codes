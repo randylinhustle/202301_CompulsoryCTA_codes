{
 "cells": [
  {
   "cell_type": "markdown",
   "id": "6bca15ba",
   "metadata": {},
   "source": [
    "## ***0. Import libraries***"
   ]
  },
  {
   "cell_type": "code",
   "execution_count": null,
   "id": "4d757120",
   "metadata": {},
   "outputs": [],
   "source": [
    "import pandas as pd\n",
    "import re\n",
    "from sklearn.feature_extraction.text import CountVectorizer\n",
    "import jieba\n",
    "import time\n",
    "import numpy as np\n",
    "import gensim\n",
    "from gensim.utils import simple_preprocess"
   ]
  },
  {
   "cell_type": "markdown",
   "id": "b6179430",
   "metadata": {},
   "source": [
    "## ***1. Import sentiment dictionary***"
   ]
  },
  {
   "cell_type": "code",
   "execution_count": null,
   "id": "982f5ec5",
   "metadata": {},
   "outputs": [],
   "source": [
    "ANTUSD = {}\n",
    "with open(\"dict/sentiment.csv\", encoding='utf-8') as f:\n",
    "    lines = [line.strip() for line in f.readlines()]\n",
    "for line in lines:\n",
    "    word = line.split(',')[0]\n",
    "    score = line.split(',')[1]\n",
    "    ANTUSD[word] = float(score)\n",
    "# test\n",
    "ANTUSD['良心']"
   ]
  },
  {
   "cell_type": "code",
   "execution_count": null,
   "id": "98ce7587",
   "metadata": {},
   "outputs": [],
   "source": [
    "df = pd.read_csv(\"results/PP_leavehomesafe.csv\", encoding = \"utf-8\")\n",
    "df['content'] = df['thread_title'] + df['msg']\n",
    "df['content'] = df['content'].astype(str)\n",
    "data = df['content'].values.tolist()"
   ]
  },
  {
   "cell_type": "code",
   "execution_count": null,
   "id": "116771a1",
   "metadata": {},
   "outputs": [],
   "source": [
    "jieba.load_userdict(\"dict/sentimentDict.txt\")\n",
    "\n",
    "def is_chinese(uchar):\n",
    "    if uchar >= '\\u4e00' and uchar <= '\\u9fa5':\n",
    "        return True\n",
    "    else:\n",
    "        return False\n",
    "\n",
    "def seg_depart(sentence):\n",
    "    sentence_depart = jieba.cut(sentence.strip())\n",
    "    outstr = ''\n",
    "    for word in sentence_depart:\n",
    "        if (len(word.strip()) > 0):\n",
    "            outstr += word\n",
    "            outstr += \" \"\n",
    "    return outstr\n",
    "\n",
    "result_fenci = []\n",
    "for i in data:\n",
    "    result_fenci.append([i, seg_depart(i)])\n",
    "    \n",
    "result_fenci = [i[1].split(' ')[:-1] for i in result_fenci]"
   ]
  },
  {
   "cell_type": "code",
   "execution_count": null,
   "id": "06df5fa9",
   "metadata": {},
   "outputs": [],
   "source": [
    "df['sentiment_tokenz'] = result_fenci"
   ]
  },
  {
   "cell_type": "code",
   "execution_count": null,
   "id": "0a3d60fc",
   "metadata": {},
   "outputs": [],
   "source": [
    "def sent_to_words_space(sentences):\n",
    "    for sent in sentences:\n",
    "        sent = re.sub(r'[^\\w\\s]', '', sent)  # remove punctuations\n",
    "        sent = sent.replace('_', '')\n",
    "        yield (sent)\n",
    "\n",
    "\n",
    "df['sentiment_tokenz'] = df['sentiment_tokenz'].astype(str)\n",
    "\n",
    "msg_space = df.sentiment_tokenz.values.tolist()\n",
    "msg_space_words = list(sent_to_words_space(msg_space))\n",
    "\n",
    "print(msg_space_words[:1])\n",
    "\n",
    "df['sentiment_tokenz'] = msg_space_words\n",
    "df"
   ]
  },
  {
   "cell_type": "code",
   "execution_count": null,
   "id": "4f6ef522",
   "metadata": {},
   "outputs": [],
   "source": [
    "test_comment = df['sentiment_tokenz'].astype(str).values.tolist()"
   ]
  },
  {
   "cell_type": "markdown",
   "id": "1f5f5704",
   "metadata": {},
   "source": [
    "## ***2. Sentiment Labelling***"
   ]
  },
  {
   "cell_type": "code",
   "execution_count": null,
   "id": "9180eee4",
   "metadata": {},
   "outputs": [],
   "source": [
    "def ANTUSD_approach(list_):\n",
    "    ANTUSD_sentiment_list = []\n",
    "    ANTUSD_post_token = []\n",
    "    ANTUSD_neg_token = []\n",
    "    ANTUSD_score = []\n",
    "    for sentence in list_:\n",
    "        score = 0\n",
    "        temp_post = []\n",
    "        temp_neg = []\n",
    "        for token in sentence.split(' '):\n",
    "            if token in ANTUSD:\n",
    "                score = score + ANTUSD[token]\n",
    "                if ANTUSD[token] > 0:\n",
    "                    temp_post.append(token)\n",
    "                else:\n",
    "                    temp_neg.append(token)\n",
    "        ANTUSD_post_token.append(temp_post)\n",
    "        ANTUSD_neg_token.append(temp_neg)\n",
    "        ANTUSD_score.append(score)\n",
    "        if score > 0:\n",
    "            ANTUSD_sentiment_list.append('positive')\n",
    "        elif score == 0:\n",
    "            ANTUSD_sentiment_list.append('neutral')     \n",
    "        else:\n",
    "            ANTUSD_sentiment_list.append('negative')\n",
    "    return ANTUSD_sentiment_list, ANTUSD_post_token, ANTUSD_neg_token, ANTUSD_score "
   ]
  },
  {
   "cell_type": "code",
   "execution_count": null,
   "id": "b2ac67e8",
   "metadata": {},
   "outputs": [],
   "source": [
    "ANTUSD_sentiment_list, ANTUSD_post_token, ANTUSD_neg_token, ANTUSD_score = ANTUSD_approach(test_comment)"
   ]
  },
  {
   "cell_type": "code",
   "execution_count": null,
   "id": "0398a998",
   "metadata": {},
   "outputs": [],
   "source": [
    "df['sentiment'] = ANTUSD_sentiment_list\n",
    "df['positive_terms'] = ANTUSD_post_token\n",
    "df['negative_terms'] = ANTUSD_neg_token\n",
    "df['sentiment_score']  = ANTUSD_score\n",
    "df.head(5)"
   ]
  },
  {
   "cell_type": "code",
   "execution_count": null,
   "id": "ed7b1dbe",
   "metadata": {},
   "outputs": [],
   "source": [
    "df.pop('sentiment_tokenz')"
   ]
  },
  {
   "cell_type": "code",
   "execution_count": null,
   "id": "aeac5fc0",
   "metadata": {},
   "outputs": [],
   "source": [
    "df.to_csv(\"results/stm_leavehomesafe.csv\", encoding=\"utf-8\", index=False)"
   ]
  }
 ],
 "metadata": {
  "kernelspec": {
   "display_name": "Python 3 (ipykernel)",
   "language": "python",
   "name": "python3"
  },
  "language_info": {
   "codemirror_mode": {
    "name": "ipython",
    "version": 3
   },
   "file_extension": ".py",
   "mimetype": "text/x-python",
   "name": "python",
   "nbconvert_exporter": "python",
   "pygments_lexer": "ipython3",
   "version": "3.8.0"
  }
 },
 "nbformat": 4,
 "nbformat_minor": 5
}
